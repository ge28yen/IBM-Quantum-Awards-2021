{
 "cells": [
  {
   "cell_type": "markdown",
   "id": "d0e9b4b7",
   "metadata": {},
   "source": [
    "# Introduction\n",
    "We have approached the problem by trying to optimize with the help of Qiskit Pulse the CX^IZ^CX, or controled phase (ZZ) interaction with additional phase shifts on both qubits, which is the keystone of the algorithm. In case of the 4 Trotter steps, it is employed 24 times."
   ]
  },
  {
   "cell_type": "markdown",
   "id": "dd0d0908",
   "metadata": {},
   "source": [
    "# First approach: Using the CR Gate\n",
    "   We followed : </p>\n",
    "   \n",
    "   [1]S. Sheldon, E. Magesan, J. M. Chow, J. M. Gambetta\n",
    "        Phys. Rev. A 93, 060302(R) (2016)</p>\n",
    "           \n",
    "   [2]N. Sundaresan, I. Lauer, E. Pritchett, E. Magesan, P. Jurcevic, J. M. Gambetta\n",
    "        PRX Quantum 1, 020318 (2020).</p>\n",
    "        \n",
    "   The idea was to use the CR Gate, while trying to maximze the $ZZ$ interaction rate. Additionally, it is possible to retain the original $ZX$ interaction and performe the $CX*IZ*CX$ sequence, while also inducing $ZZ$ interaction during Cross-Resonance. This would speed up the overall $CX*IZ*CX$ sequence, leading to improved fidelity.</p>\n",
    "   \n",
    "   The available degrees of freedom were like in [1] and [2]: \n",
    "   > - Control amplitude\n",
    "   > - Control phase \n",
    "   > - Overall signal length\n",
    "   > - Rotary rate\n",
    "   \n",
    "   The experiments were performed on the IBMq Santiago System, as the Jakarta system remained unavailable to us for a long time. The results were unsatisfactionary, as no ZZ gate fidelity above 0.4 could be reproduced.\n",
    "  "
   ]
  },
  {
   "cell_type": "markdown",
   "id": "47ad4f36",
   "metadata": {},
   "source": [
    "# Second approach: Hardware-efficient ZZ Gate\n",
    "  following : </p>\n",
    "  [3] B. K. Mitchell, R. K. Naik, A. Morvan, A. Hashim, J. M. Kreikebaum, B. Marinelli, W. Lavrijsen, K. Nowrouzi, D. I. Santiago, and I. Siddiqi Phys. Rev. Lett. 127, 200502(2021), </p>\n",
    "  \n",
    "  it is possible to activate the ZZ interaction, by driving both coupled, fixed-frequency qubits at a frequency between $|1> -> |2>$ transition of the higher-frequency qubit and the $|0> -> |1>$ transition of the lower frequency qubit. However, exact driving frequency, pulse amplitude, phase, pulse duration, IZ and ZI corrections have to be optimized to achieve a high fidelity gate of desired conditional phase change. </p>\n",
    "  \n",
    "  It's worth mentioning, that the Jakarta access was granted to us very late and a single job wainting time was about a week. At the same time, other backends don't support advanced qiskit Pulse functionalities. Therefore, despite high effort to prevent it, the later part of the code could not be tested and may contain bugs. "
   ]
  },
  {
   "cell_type": "markdown",
   "id": "b2f2e380",
   "metadata": {},
   "source": [
    "Import necessary packages, load the Jakarta backend"
   ]
  },
  {
   "cell_type": "code",
   "execution_count": 1,
   "id": "10950338",
   "metadata": {},
   "outputs": [
    {
     "name": "stdout",
     "output_type": "stream",
     "text": [
      "(CVXPY) Apr 15 01:36:52 PM: Encountered unexpected exception importing solver GLOP:\n",
      "RuntimeError('Version of ortools (9.2.9972) is too old. Expected >= 9.3.0.')\n",
      "(CVXPY) Apr 15 01:36:52 PM: Encountered unexpected exception importing solver PDLP:\n",
      "RuntimeError('Version of ortools (9.2.9972) is too old. Expected >= 9.3.0.')\n"
     ]
    },
    {
     "name": "stderr",
     "output_type": "stream",
     "text": [
      "C:\\Users\\di46kon\\AppData\\Local\\Temp/ipykernel_8536/4180362312.py:12: DeprecationWarning: The qiskit.ignis package is deprecated and has been supersceded by the qiskit-experiments project. Refer to the migration guide: https://github.com/Qiskit/qiskit-ignis#migration-guide on how to migrate to the new project.\n",
      "  from qiskit.ignis.verification.tomography import state_tomography_circuits, StateTomographyFitter\n"
     ]
    }
   ],
   "source": [
    "import numpy as np\n",
    "from qiskit import QuantumCircuit, QuantumRegister, IBMQ, execute, transpile\n",
    "from qiskit.providers.aer import QasmSimulator\n",
    "from qiskit.tools.monitor import job_monitor\n",
    "from qiskit.circuit import Parameter\n",
    "\n",
    "from qiskit import assemble\n",
    "from qiskit.providers.aer import PulseSimulator\n",
    "from qiskit.providers.aer.pulse import PulseSystemModel\n",
    "\n",
    "# Import state tomography modules\n",
    "from qiskit.ignis.verification.tomography import state_tomography_circuits, StateTomographyFitter\n",
    "from qiskit.quantum_info import state_fidelity\n",
    "\n",
    "# suppress warnings\n",
    "import warnings\n",
    "warnings.filterwarnings('ignore')\n",
    "\n",
    "from qiskit import circuit, pulse, transpile, QuantumCircuit, schedule\n",
    "from qiskit.pulse import Play\n",
    "from qiskit.pulse.channels import ControlChannel, DriveChannel\n",
    "from qiskit.pulse.library import drag as Drag\n",
    "from qiskit.pulse.library import drag\n",
    "from qiskit.pulse.library import GaussianSquare\n",
    "import matplotlib.pyplot as plt\n",
    "from qiskit.ignis.verification.tomography import process_tomography_circuits, ProcessTomographyFitter\n",
    "from qiskit.opflow import Zero, One, I, X, Y, Z"
   ]
  },
  {
   "cell_type": "code",
   "execution_count": 2,
   "id": "d6c73b54",
   "metadata": {},
   "outputs": [],
   "source": [
    "from qiskit import IBMQ\n",
    "provider = IBMQ.load_account()"
   ]
  },
  {
   "cell_type": "code",
   "execution_count": 3,
   "id": "e67ad4dc",
   "metadata": {},
   "outputs": [],
   "source": [
    "provider = IBMQ.get_provider(hub='ibm-q-community', group='ibmquantumawards', project='open-science-22')\n",
    "backend = provider.get_backend('ibmq_jakarta')"
   ]
  },
  {
   "cell_type": "code",
   "execution_count": 4,
   "id": "d34c7dc3",
   "metadata": {},
   "outputs": [],
   "source": [
    "from qiskit.circuit.library import RXXGate, RYYGate, RZZGate, CXGate, CZGate\n",
    "from qiskit.quantum_info.operators import Operator\n",
    "\n",
    "import qiskit.quantum_info as qi"
   ]
  },
  {
   "cell_type": "code",
   "execution_count": 5,
   "id": "6fa2ed08",
   "metadata": {},
   "outputs": [],
   "source": [
    "sim_noisy_jakarta = QasmSimulator.from_backend(provider.get_backend('ibmq_jakarta'))"
   ]
  },
  {
   "cell_type": "markdown",
   "id": "6a288d9e",
   "metadata": {},
   "source": [
    "Find qubit 1, 3, 5 frequencies of the Jakarta system. "
   ]
  },
  {
   "cell_type": "code",
   "execution_count": 6,
   "id": "715ab25a",
   "metadata": {},
   "outputs": [
    {
     "data": {
      "text/plain": [
       "[5236541178.342768,\n",
       " 5014454403.463387,\n",
       " 5108540711.748391,\n",
       " 5178143350.986743,\n",
       " 5213026535.205841,\n",
       " 5063267493.308405,\n",
       " 5300700637.722491]"
      ]
     },
     "execution_count": 6,
     "metadata": {},
     "output_type": "execute_result"
    }
   ],
   "source": [
    "backend.defaults().qubit_freq_est"
   ]
  },
  {
   "cell_type": "markdown",
   "id": "f76287eb",
   "metadata": {},
   "source": [
    "The gate requires driving below lower-frequency qubit, so in this case we choose the frequency below 5014445797.182232 for the gate on qubits (1,3) and a frequency below 5063274015.042817 for the gate on qubits (3,5)"
   ]
  },
  {
   "cell_type": "markdown",
   "id": "e080f95e",
   "metadata": {},
   "source": [
    "### Optimize ZZ interaction for qubits 1 and 3:"
   ]
  },
  {
   "cell_type": "code",
   "execution_count": 8,
   "id": "a4863f48",
   "metadata": {},
   "outputs": [],
   "source": [
    "freq1 = backend.properties().qubits[1][2].value*1e9 #get frequency of qubit 1 and 5\n",
    "freq5 = backend.properties().qubits[5][2].value*1e9"
   ]
  },
  {
   "cell_type": "markdown",
   "id": "d1f3762e",
   "metadata": {},
   "source": [
    "During experiments on other backends, we found that varying phase of the Drive Signal doesn't improve the gate fidelity. Therefore, it remains to optimize: </p>\n",
    "> - Drive frequency on both qubits\n",
    "> - Drive amplitude\n",
    "> - Signal length\n",
    "> - IZ and ZI correction phase after ZZ gate "
   ]
  },
  {
   "cell_type": "markdown",
   "id": "7014ea7d",
   "metadata": {},
   "source": [
    "Define the parametrized schedule which will allow for optimization of the ZZ Gate:\n",
    "Firstly, we optimize the ZZ gate between qubits 1 and 3. The initial values are taken from experience with other backends."
   ]
  },
  {
   "cell_type": "code",
   "execution_count": null,
   "id": "91286180",
   "metadata": {},
   "outputs": [],
   "source": [
    "Parameters = {\"omega_drives\": [freq1-0.08e9],\n",
    "             \"drive_amplitudes\": [0.1],\n",
    "             'phases': [2*np.pi/3],\n",
    "             \"pulse_lengths\": [704],\n",
    "             \"IZ_phases\" :[0],\n",
    "             'ZI_phases':[0]}"
   ]
  },
  {
   "cell_type": "markdown",
   "id": "57cf1f21",
   "metadata": {},
   "source": [
    "Define the parameter sweeps you want to perform."
   ]
  },
  {
   "cell_type": "code",
   "execution_count": null,
   "id": "1efac878",
   "metadata": {},
   "outputs": [],
   "source": [
    "omega_drives =freq1 +np.array( [0, -0.05e9 -0.1e9, -0.2e9, -0.3e9, -0.4e9, -0.5e9, -0.6e9, -0.7e9, -0.8e9, -0.9e9, -1e9])\n",
    "drive_amplitudes = np.array([0.03, 0.04, 0.05, 0.06, 0.07, 0.08, 0.09, 0.1, 0.15, 0.2, 0.25,])  #the amplitude shouldn't be too big, as explained in [3]\n",
    "pulse_lengths =[704]\n",
    "phases = np.linspace(0,2*np.pi*11/12, 20)\n",
    "IZ_phases = [0]\n",
    "ZI_phases = [0]\n",
    "\n",
    "sweeps = {'omega_drives' : omega_drives, \n",
    "          'drive_amplitudes': drive_amplitudes,\n",
    "          'phases':phases,\n",
    "          'pulse_lengths': pulse_lengths,\n",
    "          'IZ_phases': IZ_phases,\n",
    "          'ZI_phases':ZI_phases}"
   ]
  },
  {
   "cell_type": "markdown",
   "id": "cf38b7b7",
   "metadata": {},
   "source": [
    "Create a universal function that returns a list of parametrized ZZ gates"
   ]
  },
  {
   "cell_type": "code",
   "execution_count": null,
   "id": "f14b8664",
   "metadata": {},
   "outputs": [],
   "source": [
    "def build_zz_scheds(qc: int, qt: int, phases = [], omega_drives =[], drive_amplitudes = [], pulse_lengths = [], IZ_phases = [], ZI_phases = [],Hadamard = False, switch_phase = False) -> np.array:\n",
    "\n",
    "    tomo_circs = []\n",
    "    zz_gate = circuit.Gate('cx', num_qubits = 2, params = [])\n",
    "    \n",
    "    for omega_drive in omega_drives:\n",
    "        for drive_amplitude in drive_amplitudes:\n",
    "            for phase in phases:\n",
    "                if switch_phase ==True:\n",
    "                    phase = -1* phase\n",
    "                for pulse_length in pulse_lengths:\n",
    "                    for IZ_phase in IZ_phases:\n",
    "                        for ZI_phase in ZI_phases:\n",
    "\n",
    "                            with pulse.build(backend) as cr_sched:\n",
    "                                pulse.set_frequency(omega_drive, DriveChannel(0))\n",
    "                                pulse.set_frequency(omega_drive, DriveChannel(1))\n",
    "                                pulse.play(GaussianSquare(duration=pulse_length, amp=drive_amplitude, sigma=64, width=pulse_length-256, name='CR90p_d3_u3'), DriveChannel(1), name='CR90p_d3_u3')\n",
    "                                pulse.play(GaussianSquare(duration=pulse_length, amp=drive_amplitude*(np.exp(phase*1j)), sigma=64, width=pulse_length-256, name='CR90p_u3'), DriveChannel(2), name='CR90p_u3')\n",
    "                                pulse.barrier(qc,qt)\n",
    "\n",
    "                                tomo_circ = circuit.QuantumCircuit(7)  #use all qubits to avoid error\n",
    "                                if Hadamard == True:\n",
    "                                    tomo_circ.sc(qt)  \n",
    "                                tomo_circ.append(zz_gate, [qc, qt])  #apply the zz (crz) gate \n",
    "                                tomo_circ.barrier(qc, qt)\n",
    "                                tomo_circ.rz(IZ_phase, qt)          #correct phase on both qubits\n",
    "                                tomo_circ.rz(ZI_phase, qc)\n",
    "                                tomo_circ.add_calibration(gate=zz_gate, qubits=[qc, qt], schedule=cr_sched)\n",
    "                                tomo_circs.append(tomo_circ)\n",
    "\n",
    "    tomo_circs_transpiled = transpile(tomo_circs, backend, optimization_level = 1)            \n",
    "    return schedule(tomo_circs_transpiled, backend), tomo_circs"
   ]
  },
  {
   "cell_type": "markdown",
   "id": "c8bd9d31",
   "metadata": {},
   "source": [
    "Optimize the parameters in the given order: for each one run a sweep according to the values in sweep, retain the value resulting in the highest fidelity. The initial parameters were taken from experiments on another backend, as we didn't have access to Jakarta. Additionally, after making a rough frequency sweep with a step 100 MHz, take a refined sweep with a step 5 MHz."
   ]
  },
  {
   "cell_type": "code",
   "execution_count": null,
   "id": "b9aa11bc",
   "metadata": {},
   "outputs": [],
   "source": [
    "for sweep in sweeps:\n",
    "    print(\"sweeping:\",(sweep))\n",
    "    Parameters[sweep] = sweeps[sweep]                                        # the parameters for this sweep should contain the \n",
    "                                                                             # best parameters so far and the sweep\n",
    "    schedules, circuits = build_zz_scheds(qc = 1, qt = 3, **Parameters)      # create the schedules\n",
    "    fidelities = []\n",
    "    for sched in circuits:\n",
    "        target_unitaryZZ = qi.Operator(CZGate(-np.pi/2).to_matrix())\n",
    "        sched.draw()\n",
    "        qpt_qcs = process_tomography_circuits(sched, (1,3))\n",
    "        job1 = execute(qpt_qcs[:72:], backend, shots=8192)      # it's useful to divide the job in 2 parts, as sometimes it incurrs an error\n",
    "        job2 = execute(qpt_qcs[72:], backend, shots=8192)       \n",
    "        job_monitor(job1)\n",
    "        job_monitor(job2)\n",
    "        qpt_tomo = ProcessTomographyFitter([job1.result(), job2.result()], qpt_qcs)\n",
    "\n",
    "\n",
    "        # Tomographic reconstruction\n",
    "        choi_fit_lstsq = qpt_tomo.fit(method='lstsq')\n",
    "        zz_fidelity = qi.average_gate_fidelity(choi_fit_lstsq, target=target_unitaryZZ)  #a better metric  for a ZZ gate fidelity \n",
    "                                                                                         #would be a measure of entangling\n",
    "        fidelities.append(zz_fidelity)                                                   #save a list of fidelities for the swept parameter\n",
    "        print('Average CZ gate fidelity: F = {:.5f}'.format(zz_fidelity))\n",
    "    \n",
    "    fidelities = np.array(fidelities)\n",
    "    best = sweeps[sweep][np.argmax(fidelities)]                                     # retain the parameter resulting in the best fidelity \n",
    "    Parameters[sweep] = [best]\n",
    "    if sweep == 'omega_drives':                                                  # if sweeping frequency,\n",
    "        print('sweeping omega_drives more refined')                              # make an exact frequency sweep around the so far best frequency\n",
    "        refined_frequency = best +np.arange(-0.05e9, 0.05e9, step = 0.005e9)        \n",
    "        Parameters['omega_drives'] = best +np.arange(-0.05e9, 0.05e9, step = 0.005e9)\n",
    "        schedules, circuits = build_zz_scheds(qc = 1, qt = 3, **Parameters)\n",
    "        fidelities = []\n",
    "        for sched in circuits:\n",
    "            target_unitaryZX = qi.Operator(CXGate().to_matrix())\n",
    "            target_unitaryZZ = qi.Operator(CZGate(np.pi/2).to_matrix())\n",
    "            sched.draw()\n",
    "            # Generate process tomography circuits and run\n",
    "            qpt_qcs = process_tomography_circuits(sched, (1,3))\n",
    "            job1 = execute(qpt_qcs[:72:], backend, shots=8192)      # it's useful to divide the job in 2 parts, as sometimes it incurrs an error\n",
    "            job2 = execute(qpt_qcs[72:], backend, shots=8192)       \n",
    "            # Extract tomography data\n",
    "            job_monitor(job1)\n",
    "            job_monitor(job2)\n",
    "            qpt_tomo = ProcessTomographyFitter([job1.result(), job2.result()], qpt_qcs)\n",
    "\n",
    "\n",
    "            # Tomographic reconstruction\n",
    "            choi_fit_lstsq = qpt_tomo.fit(method='lstsq')\n",
    "            zz_fidelity = qi.average_gate_fidelity(choi_fit_lstsq, target=target_unitaryZZ)  # a better metric  for a ZZ gate fidelity \n",
    "                                                                                                #could be a measure of entangling\n",
    "            fidelities.append(zz_fidelity)\n",
    "            print('Average CZ gate fidelity: F = {:.5f}'.format(zz_fidelity))\n",
    "        Parameters['omega_drives'] = [refined_frequency[np.argmax(fidelities)]]\n",
    "    \n",
    "    print(Parameters)\n",
    "    print('done')"
   ]
  },
  {
   "cell_type": "markdown",
   "id": "5f1c6f6e",
   "metadata": {},
   "source": [
    "### After optimizing the ZZ interaction, we have to find the pulse length that will correspond to our desired phase shift = $-\\pi/2$ (for 4 Trotter steps)"
   ]
  },
  {
   "cell_type": "markdown",
   "id": "00ee7a18",
   "metadata": {},
   "source": [
    "The following two functions were taken from a jupyter notebook on CR gate pulse optimization:"
   ]
  },
  {
   "cell_type": "code",
   "execution_count": null,
   "id": "8bd4d54a",
   "metadata": {},
   "outputs": [],
   "source": [
    "backend = provider.get_backend('ibmq_jakarta')\n",
    "sim_noisy_jakarta = QasmSimulator.from_backend(provider.get_backend('ibmq_jakarta'))\n",
    "backend_model= PulseSystemModel.from_backend(backend)\n",
    "qubit_lo_freq = backend.defaults().qubit_freq_est\n",
    "\n",
    "def run_pulse(sched): \n",
    "    \"\"\"Runs the scheduled experiment on the simulated backend.\n",
    "    \n",
    "    Args:\n",
    "      sched: pulse schedule to run\n",
    "    \"\"\"\n",
    "    # assemble the qobj\n",
    "    test_qobj = assemble(sched,\n",
    "                        backend = backend,\n",
    "                        qubit_lo_freq = qubit_lo_freq,\n",
    "                        meas_level = 1, \n",
    "                        meas_return = 'avg',\n",
    "                        shots = 2048)\n",
    "    \n",
    "    # run simulation\n",
    "    myjob = backend.run(test_qobj, system_model=backend_model)\n",
    "    job_monitor(myjob)\n",
    "    sim_result = myjob.result()\n",
    "    return sim_result.get_memory(0)\n",
    "\n",
    "def run_ham_tomo(cr_times, cr_scheds):\n",
    "    \"\"\"Run Hamiltonian tomography experiment and return results.\n",
    "    \n",
    "    Args:\n",
    "      cr_times: widths of cross resonance pulses\n",
    "      cr_scheds: array of pulse schedules for Ham Tomo experiment\n",
    "    \"\"\"\n",
    "    # expectation values of target conditioned on control\n",
    "    avg_t_c = np.zeros((6, len(cr_times)), dtype = complex)\n",
    "\n",
    "    # sanity check: expectation values of control conditioned on control\n",
    "    avg_c_c = np.zeros((6, len(cr_times)), dtype = complex)\n",
    "\n",
    "    for ii in range(len(cr_scheds)):\n",
    "        result = run_pulse(cr_scheds[ii])\n",
    "        avg_t_c[ii % 6, ii // 6] = 1 - 2 * result[qt]\n",
    "        avg_c_c[ii % 6, ii // 6] = result[qc]\n",
    "        print(ii + 1, \"/\",len(cr_scheds), end = \"\\r\")\n",
    "        \n",
    "    return np.real(avg_t_c), np.real(avg_c_c)"
   ]
  },
  {
   "cell_type": "code",
   "execution_count": null,
   "id": "c985da15",
   "metadata": {},
   "outputs": [],
   "source": [
    "sweeps_pulselength = {'omega_drives' : Parameters['omega_drives'], \n",
    "          'drive_amplitudes': Parameters['drive_amplitudes'],\n",
    "          'phases':Parameters['phases'],\n",
    "          'pulse_lengths': np.arange(320, 1280, step =32).tolist(),\n",
    "          'IZ_phases': Parameters['IZ_phases'],\n",
    "          'ZI_phases': Parameters['ZI_phases']}"
   ]
  },
  {
   "cell_type": "code",
   "execution_count": null,
   "id": "5f42f02a",
   "metadata": {},
   "outputs": [],
   "source": []
  },
  {
   "cell_type": "code",
   "execution_count": null,
   "id": "ce328880",
   "metadata": {},
   "outputs": [],
   "source": [
    "schedules, circuits = build_zz_scheds(qc = 1, qt = 3, **sweeps_pulselength, Hadamard=True)   #make a list of schedules for increasing pulse lengths\n",
    "avg_t_c, avg_c_c = run_ham_tomo(sweeps_pulselength['pulse_lengths'], circuits)\n",
    "\n",
    "\n",
    "x_ground =avg_t_c[0,:]         \n",
    "y_ground =avg_t_c[2,:] \n",
    "z_ground =avg_t_c[4,:]\n",
    "x_excited=avg_t_c[1,:]\n",
    "y_excited=avg_t_c[3,:]\n",
    "z_excited=avg_t_c[5,:]"
   ]
  },
  {
   "cell_type": "markdown",
   "id": "1cc128d8",
   "metadata": {},
   "source": [
    "SX gate transforms a $|0>$ state to a $|0>-i|1>$ state, i.e. phase $3/2 \\pi$. After the completion of $CRz(-\\pi/2)$, if control was in $|0>$, target should stay in phase $3/2 \\pi$; if control was in $|1>$ , target should have phase $\\pi$. \n",
    "\n",
    "It would be beneficial to fit a sinusoid to X and Y, and retrieve the pulse length that matches exactly the desired conditional phase shift. However, under the risk of fit not converging, we choose the pulse length that is the closest to the desired conditional phase shift."
   ]
  },
  {
   "cell_type": "code",
   "execution_count": null,
   "id": "975ceabe",
   "metadata": {},
   "outputs": [],
   "source": [
    "d_phase = np.arctan(y_ground/x_ground) - np.arctan(y_excited/x_excited)  # get the difference of target phase for control in 0 and 1\n",
    "deviations = np.abs(d_phase + np.pi/2)                                 #get the deviation between -pi/2 and the retrieved phases\n",
    "best_length = sweeps_pulselength['pulse_lengths'][np.argmin(deviations)]     # choose the pulse length that minimizes the deviation\n",
    "Parameters['pulse_lengths'] = [best_length]\n",
    "IZ = -np.arctan(y_ground/x_ground) \n",
    "IZ = IZ.tolist()[np.argmin(deviations)]#correct the target phase\n",
    "Parameters['IZ'] = [IZ]\n",
    "print(Parameters)"
   ]
  },
  {
   "cell_type": "markdown",
   "id": "8d165fbf",
   "metadata": {},
   "source": [
    "Use the established pulse length and repeat the experiment with switched qubits : this way, you can determine the required $ZI$ correction after the $CRz$ pulse."
   ]
  },
  {
   "cell_type": "code",
   "execution_count": null,
   "id": "6b1fe924",
   "metadata": {},
   "outputs": [],
   "source": [
    "schedules, circuits = build_zz_scheds(qc = 3, qt = 1, **Parameters, Hadamard= True, switch_phase = True)   #make a list of schedules for increasing pulse lengths\n",
    "\n",
    "#As the qubit order is reversed, the relative driving pulse phase also needs to be reversed. Other than that, the gate is symmetrical. \n",
    "\n",
    "avg_t_c, avg_c_c = run_ham_tomo(Parameters['pulse_lengths'], circuits)\n",
    "\n",
    "x_ground =avg_t_c[0,:]         \n",
    "y_ground =avg_t_c[2,:] \n",
    "z_ground =avg_t_c[4,:]\n",
    "x_excited=avg_t_c[1,:]\n",
    "y_excited=avg_t_c[3,:]\n",
    "z_excited=avg_t_c[5,:]\n",
    "\n",
    "d_phase = np.arctan(y_ground/x_ground) - # find\n",
    "ZI = -d_phase[0]\n",
    "ZI = ZI.tolist()\n",
    "Parameters['ZI'] = [ZI]\n",
    "print(Parameters)"
   ]
  },
  {
   "cell_type": "code",
   "execution_count": null,
   "id": "1a8bea02",
   "metadata": {},
   "outputs": [],
   "source": []
  },
  {
   "cell_type": "markdown",
   "id": "96296a7c",
   "metadata": {},
   "source": [
    "### Repeat optimization for a ZZ gate between qubits 3 and 5"
   ]
  },
  {
   "cell_type": "code",
   "execution_count": null,
   "id": "6d5842f8",
   "metadata": {},
   "outputs": [],
   "source": [
    "Parameters2 ={\"omega_drives2\": [freq5-0.15e9],\n",
    "             \"drive_amplitudes2\": [0.1],\n",
    "              'phases2': [2*np.pi/3],\n",
    "             \"pulse_lengths2\": [704],\n",
    "             \"IZ_phases2\" : [0],\n",
    "             'ZI_phases2':[0]}"
   ]
  },
  {
   "cell_type": "code",
   "execution_count": null,
   "id": "ac221fdb",
   "metadata": {},
   "outputs": [],
   "source": [
    "omega_drives =freq5 +np.array( [0, -0.05e9 -0.1e9, -0.2e9, -0.3e9, -0.4e9, -0.5e9, -0.6e9, -0.7e9, -0.8e9, -0.9e9, -1e9])\n",
    "drive_amplitudes = np.array([0.03, 0.04, 0.05, 0.06, 0.07, 0.08, 0.09, 0.1, 0.15, 0.2, 0.25,])  #the amplitude shouldn't be too big, as explained in [3]\n",
    "pulse_lengths =[704]\n",
    "phases = np.linspace(0,2*np.pi*11/12, 20)\n",
    "IZ_phases = [0]\n",
    "ZI_phases = [0]\n",
    "\n",
    "sweeps2 = {'omega_drives2' : omega_drives, \n",
    "          'drive_amplitudes2': drive_amplitudes,\n",
    "          'phases2':phases,\n",
    "          'pulse_lengths2': pulse_lengths,\n",
    "          'IZ_phases2': IZ_phases,\n",
    "          'ZI_phases2':ZI_phases}"
   ]
  },
  {
   "cell_type": "code",
   "execution_count": null,
   "id": "0e96574c",
   "metadata": {},
   "outputs": [],
   "source": [
    "def build_zz_scheds2(qc: int, qt: int, phases2 = [], omega_drives2 =[], drive_amplitudes2 = [], pulse_lengths2 = [], IZ_phases2 = [], ZI_phases2 = [],Hadamard = False, switch_phase = False) -> np.array:\n",
    "\n",
    "    tomo_circs = []\n",
    "    zz_gate = circuit.Gate('cx', num_qubits = 2, params = [])\n",
    "    \n",
    "    for omega_drive in omega_drives2:\n",
    "        for drive_amplitude in drive_amplitudes2:\n",
    "            for phase in phases2:\n",
    "                if switch_phase ==True:\n",
    "                    phase = -1* phase\n",
    "                for pulse_length in pulse_lengths2:\n",
    "                    for IZ_phase in IZ_phases2:\n",
    "                        for ZI_phase in ZI_phases2:\n",
    "\n",
    "                            with pulse.build(backend) as cr_sched:\n",
    "                                pulse.set_frequency(omega_drive, DriveChannel(3))\n",
    "                                pulse.set_frequency(omega_drive, DriveChannel(5))\n",
    "                                pulse.play(GaussianSquare(duration=pulse_length, amp=drive_amplitude, sigma=64, width=pulse_length-256, name='CR90p_d3_u3'), DriveChannel(3), name='CR90p_d3_u3')\n",
    "                                pulse.play(GaussianSquare(duration=pulse_length, amp=drive_amplitude*(np.exp(phase*1j)), sigma=64, width=pulse_length-256, name='CR90p_u3'), DriveChannel(5), name='CR90p_u3')\n",
    "                                pulse.barrier(qc,qt)\n",
    "\n",
    "                                tomo_circ = circuit.QuantumCircuit(7)  #use all qubits to avoid error\n",
    "                                if Hadamard == True:\n",
    "                                    tomo_circ.sx(qt)  \n",
    "                                tomo_circ.append(zz_gate, [qc, qt])  #apply the zz gate\n",
    "                                tomo_circ.barrier(qc, qt)\n",
    "                                tomo_circ.rz(IZ_phase, qt)\n",
    "                                tomo_circ.rz(ZI_phase, qc)\n",
    "                                tomo_circ.add_calibration(gate=zz_gate, qubits=[qc, qt], schedule=cr_sched)\n",
    "                                tomo_circs.append(tomo_circ)\n",
    "\n",
    "    tomo_circs_transpiled = transpile(tomo_circs, backend, optimization_level = 1)            \n",
    "    return schedule(tomo_circs_transpiled, backend), tomo_circs"
   ]
  },
  {
   "cell_type": "code",
   "execution_count": null,
   "id": "352b882a",
   "metadata": {},
   "outputs": [],
   "source": [
    "for sweep in sweeps2:\n",
    "    print(\"sweeping:\",(sweep))\n",
    "    Parameters2[sweep] = sweeps2[sweep]                                        # the parameters for this sweep should contain the \n",
    "                                                                             #best parameters so far and the sweep\n",
    "    schedules, circuits = build_zz_scheds2(qc = 3, qt = 5, **Parameters2)      # create the schedules\n",
    "    fidelities = []\n",
    "    for sched in circuits:\n",
    "        target_unitaryZZ = qi.Operator(CZGate(-np.pi/2).to_matrix())\n",
    "        sched.draw()\n",
    "        qpt_qcs = process_tomography_circuits(sched, (3,5))\n",
    "        job1 = execute(qpt_qcs[:72:], backend, shots=8192)      # it's useful to divide the job in 2 parts, as sometimes it incurrs an error\n",
    "        job2 = execute(qpt_qcs[72:], backend, shots=8192)       \n",
    "        job_monitor(job1)\n",
    "        job_monitor(job2)\n",
    "        qpt_tomo = ProcessTomographyFitter([job1.result(), job2.result()], qpt_qcs)\n",
    "\n",
    "\n",
    "        # Tomographic reconstruction\n",
    "        choi_fit_lstsq = qpt_tomo.fit(method='lstsq')\n",
    "        zz_fidelity = qi.average_gate_fidelity(choi_fit_lstsq, target=target_unitaryZZ)  #a better metric  for a ZZ gate fidelity \n",
    "                                                                                            #would be a measure of entangling\n",
    "        fidelities.append(zz_fidelity)                                                   #save a list of fidelities for the swept parameter\n",
    "        print('Average CZ gate fidelity: F = {:.5f}'.format(zz_fidelity))\n",
    "    \n",
    "    fidelities = np.array(fidelities)\n",
    "    best = sweeps2[sweep][np.argmax(fidelities)]                                     # retain the parameter resulting in the best fidelity \n",
    "    Parameters2[sweep] = [best]\n",
    "    if sweep == 'omega_drives2':                                        # if sweeping frequency,\n",
    "        print('sweeping omega_drives2 more refined')                              #make an exact frequency sweep around the so far best frequency\n",
    "        refined_frequency = best +np.arange(-0.05e9, 0.05e9, step = 0.005e9)        \n",
    "        Parameters2['omega_drives2'] = best +np.arange(-0.05e9, 0.05e9, step = 0.005e9)\n",
    "        schedules, circuits = build_zz_scheds2(qc = 3, qt = 5, **Parameters2)\n",
    "        fidelities = []\n",
    "        for sched in circuits:\n",
    "            target_unitaryZZ = qi.Operator(CZGate(np.pi/2).to_matrix())\n",
    "            sched.draw()\n",
    "            # Generate process tomography circuits and run\n",
    "            qpt_qcs = process_tomography_circuits(sched, (3,5))\n",
    "            job1 = execute(qpt_qcs[:72:], backend, shots=8192)      # it's useful to divide the job in 2 parts, as sometimes it incurrs an error\n",
    "            job2 = execute(qpt_qcs[72:], backend, shots=8192)       \n",
    "            # Extract tomography data\n",
    "            job_monitor(job1)\n",
    "            job_monitor(job2)\n",
    "            qpt_tomo = ProcessTomographyFitter([job1.result(), job2.result()], qpt_qcs)\n",
    "\n",
    "\n",
    "            # Tomographic reconstruction\n",
    "            choi_fit_lstsq = qpt_tomo.fit(method='lstsq')\n",
    "            zz_fidelity = qi.average_gate_fidelity(choi_fit_lstsq, target=target_unitaryZZ)  # a better metric  for a ZZ gate fidelity \n",
    "                                                                                                #would be a measure of entangling\n",
    "            fidelities.append(zz_fidelity)\n",
    "            print('Average CZ gate fidelity: F = {:.5f}'.format(zz_fidelity))\n",
    "        Parameters2['omega_drives2'] = [refined_frequency[np.argmax(fidelities)]]\n",
    "    \n",
    "    print(Parameters)\n",
    "    print('done')"
   ]
  },
  {
   "cell_type": "code",
   "execution_count": null,
   "id": "a48ae83d",
   "metadata": {},
   "outputs": [],
   "source": [
    "sweeps_pulselength2 = {'omega_drives2' : Parameters2['omega_drives2'], \n",
    "          'drive_amplitudes2': Parameters2['drive_amplitudes2'],\n",
    "          'phases2':Parameters2['phases2'],\n",
    "          'pulse_lengths2': np.arange(320, 1280, step =32).tolist(),\n",
    "          'IZ_phases2': Parameters2['IZ_phases2'],\n",
    "        'ZI_phases2': Parameters2['ZI_phases2']}"
   ]
  },
  {
   "cell_type": "code",
   "execution_count": null,
   "id": "4e89c312",
   "metadata": {},
   "outputs": [],
   "source": [
    "schedules, circuits = build_zz_scheds2(qc = 3, qt = 5, **sweeps_pulselength2, Hadamard=True)   #make a list of schedules for increasing pulse lengths\n",
    "avg_t_c, avg_c_c = run_ham_tomo(sweeps_pulselength2['pulse_lengths2'], circuits)\n",
    "\n",
    "\n",
    "x_ground =avg_t_c[0,:]         \n",
    "y_ground =avg_t_c[2,:] \n",
    "z_ground =avg_t_c[4,:]\n",
    "x_excited=avg_t_c[1,:]\n",
    "y_excited=avg_t_c[3,:]\n",
    "z_excited=avg_t_c[5,:]"
   ]
  },
  {
   "cell_type": "code",
   "execution_count": null,
   "id": "196e8501",
   "metadata": {},
   "outputs": [],
   "source": [
    "d_phase = np.arctan(y_ground/x_ground) - np.arctan(y_excited/x_excited)  # get the difference of target phase for control in 0 and 1\n",
    "deviations = np.abs(d_phase + np.pi/2)                              #get the deviation between -pi/2 and the retrieved phases\n",
    "best_length = sweeps_pulselength2['pulse_lengths2'][np.argmin(deviations)]     # choose the pulse length that minimizes the deviation\n",
    "Parameters2['pulse_lengths2'] = [best_length]\n",
    "IZ = -np.arctan(y_ground/x_ground) \n",
    "IZ = IZ.tolist()[np.argmin(deviations)]#correct the target phase\n",
    "Parameters2['IZ_phases2'] = [IZ]\n",
    "print(Parameters2)"
   ]
  },
  {
   "cell_type": "code",
   "execution_count": null,
   "id": "f147eb76",
   "metadata": {},
   "outputs": [],
   "source": [
    "schedules, circuits = build_zz_scheds2(qc = 5, qt = 3, **Parameters2, Hadamard= True, switch_phase = True)   #make a list of schedules for increasing pulse lengths\n",
    "\n",
    "#As the qubit order is reversed, the relative driving pulse phase also needs to be reversed. Other than that, the gate is symmetrical. \n",
    "\n",
    "avg_t_c, avg_c_c = run_ham_tomo(Parameters2['pulse_lengths2'], circuits)\n",
    "\n",
    "x_ground =avg_t_c[0,:]         \n",
    "y_ground =avg_t_c[2,:] \n",
    "z_ground =avg_t_c[4,:]\n",
    "x_excited=avg_t_c[1,:]\n",
    "y_excited=avg_t_c[3,:]\n",
    "z_excited=avg_t_c[5,:]\n",
    "\n",
    "d_phase = np.arctan(y_ground/x_ground)\n",
    "ZI = -d_phase[0]\n",
    "ZI = ZI.tolist()\n",
    "Parameters2['ZI_phases2'] = [ZI]\n",
    "print(Parameters2)"
   ]
  },
  {
   "cell_type": "markdown",
   "id": "2092879c",
   "metadata": {},
   "source": [
    "### Build the final Trotter step using the optimized ZZ gates parameters"
   ]
  },
  {
   "cell_type": "markdown",
   "id": "54bf6327",
   "metadata": {},
   "source": [
    "The solution is based on the following idea:</p>\n",
    "\n",
    "The sequence $CX*IRz(\\pi/4)*CX$ , as in the example notebook, corresponds to $Rz(\\pi/4)I*IRz(\\pi/4)*ZZ(-\\pi/2)$.</p>\n",
    "\n",
    "More generally, $CX*IRz(\\theta)*CX$ corresponds to $Rz(\\theta)I*IRz(\\theta)*ZZ(-2\\theta)$.</p>\n",
    "\n",
    "Given that we have now a single entangling gate and two fast, high-fidelity single qubit gates, we can expect a significant improvement in the overall sequence fidelity. Furthermore, the algorithm with 4 Trotter steps consists of 24 of such sequences, intertwined by single qubit operations."
   ]
  },
  {
   "cell_type": "code",
   "execution_count": 10,
   "id": "d5ebab98",
   "metadata": {},
   "outputs": [],
   "source": [
    "backend = provider.get_backend('ibmq_jakarta')\n",
    "sim_noisy_jakarta = QasmSimulator.from_backend(provider.get_backend('ibmq_jakarta'))"
   ]
  },
  {
   "cell_type": "code",
   "execution_count": 11,
   "id": "31461fc1",
   "metadata": {},
   "outputs": [],
   "source": [
    "def build_Trotter_step( omega_drives =[], drive_amplitudes = [], phases = [], pulse_lengths = [], IZ_phases = [], ZI_phases = [],\n",
    "                   omega_drives2=[], drive_amplitudes2= [], phases2 = [], pulse_lengths2= [], IZ_phases2= [], ZI_phases2 = []) -> np.array:\n",
    "\n",
    "    tomo_circs = []\n",
    "    \n",
    "    zz_gate = circuit.Gate('cx', num_qubits = 2, params = [])\n",
    "    zz_gate2 = circuit.Gate('cx', num_qubits =2, params = [])\n",
    "    for omega_drive in omega_drives:\n",
    "        for drive_amplitude in drive_amplitudes:\n",
    "            for phase in phases:\n",
    "                for pulse_length in pulse_lengths:\n",
    "                    for IZ_phase in IZ_phases:\n",
    "                        for ZI_phase in ZI_phases2:#tomo_cr_params = cr_params.copy()\n",
    "\n",
    "                            with pulse.build(backend) as sched:\n",
    "\n",
    "\n",
    "                                pulse.set_frequency(omega_drive, DriveChannel(1))\n",
    "                                pulse.set_frequency(omega_drive, DriveChannel(3))\n",
    "                                pulse.play(GaussianSquare(duration=pulse_length, amp=drive_amplitude, sigma=64, width=pulse_length-256, name='CR90p_d3_u3'), DriveChannel(1), name='CR90p_d3_u3')\n",
    "                                pulse.play(GaussianSquare(duration=pulse_length, amp=drive_amplitude*(np.exp(phase*1j)), sigma=64, width=pulse_length-256, name='CR90p_u3'), DriveChannel(3), name='CR90p_u3')\n",
    "\n",
    "\n",
    "\n",
    "                            for omega_drive2 in omega_drives2:\n",
    "                                for drive_amplitude2 in drive_amplitudes2:\n",
    "                                    for pulse_length2 in pulse_lengths2:\n",
    "                                        for phase2 in phases2: \n",
    "                                            for IZ_phase2 in IZ_phases2:\n",
    "                                                for ZI_phase2 in ZI_phases2:\n",
    "                                                    with pulse.build(backend) as sched2:\n",
    "\n",
    "\n",
    "                                                        pulse.set_frequency(omega_drive2, DriveChannel(3))\n",
    "                                                        pulse.set_frequency(omega_drive2, DriveChannel(5))\n",
    "                                                        pulse.play(GaussianSquare(duration=pulse_length2, amp=drive_amplitude2, sigma=64, width=pulse_length2-256, name='CR90p_d3_u3'), DriveChannel(3), name='CR90p_d3_u3')\n",
    "                                                        pulse.play(GaussianSquare(duration=pulse_length2, amp=drive_amplitude2*(np.exp(phase2*1j)), sigma=64, width=pulse_length2-256, name='CR90p_u3'), DriveChannel(5), name='CR90p_u3')\n",
    "\n",
    "\n",
    "                                                    tomo_circ = circuit.QuantumCircuit(7)\n",
    "\n",
    "                                                    tomo_circ.ry(np.pi/2, [1,3])          #The trotter step is a series of ZZ gates for each basis X, Y, Z , for both qubit pairs\n",
    "                                                    tomo_circ.rz(np.pi/4, [1])\n",
    "                                                    tomo_circ.rz(np.pi/4, [3])                        \n",
    "                                                    tomo_circ.append(zz_gate, [1, 3])     #This is the same like in the example , however CX^IZ^CX was substituted with a ZZ(pi/4) gate\n",
    "                                                    tomo_circ.rz(ZI_phase, [1])\n",
    "                                                    tomo_circ.rz(IZ_phase, [3])\n",
    "                                                    tomo_circ.ry(-np.pi/2, [1,3])\n",
    "                                                    tomo_circ.rx(np.pi/2, [1,3])\n",
    "                                                    tomo_circ.rz(np.pi/4, [1])\n",
    "                                                    tomo_circ.rz(np.pi/4, [3])  \n",
    "                                                    tomo_circ.append(zz_gate, [1,3])\n",
    "                                                    tomo_circ.rz(ZI_phase, [1])\n",
    "                                                    tomo_circ.rz(IZ_phase, [3])\n",
    "                                                    tomo_circ.rx(-np.pi/2, [1,3])\n",
    "                                                    tomo_circ.rz(np.pi/4, [1])\n",
    "                                                    tomo_circ.rz(np.pi/4, [3])  \n",
    "                                                    tomo_circ.append(zz_gate, [1,3])\n",
    "                                                    tomo_circ.rz(ZI_phase, [1])\n",
    "                                                    tomo_circ.rz(IZ_phase, [3])\n",
    "\n",
    "                                                    \n",
    "                                                    tomo_circ.barrier(1,3,5)\n",
    "\n",
    "                                                    tomo_circ.ry(np.pi/2, [3,5])\n",
    "                                                    tomo_circ.rz(np.pi/4, [3])\n",
    "                                                    tomo_circ.rz(np.pi/4, [5])  \n",
    "                                                    tomo_circ.append(zz_gate2, [3,5])\n",
    "                                                    tomo_circ.rz(ZI_phase2, [3])\n",
    "                                                    tomo_circ.rz(IZ_phase2, [5])\n",
    "                                                    tomo_circ.ry(-np.pi/2, [3,5])\n",
    "                                                    tomo_circ.rx(np.pi/2, [3,5])\n",
    "                                                    tomo_circ.rz(np.pi/4, [3])\n",
    "                                                    tomo_circ.rz(np.pi/4, [5])  \n",
    "                                                    tomo_circ.append(zz_gate2, [3,5])\n",
    "                                                    tomo_circ.rz(ZI_phase2, [3])\n",
    "                                                    tomo_circ.rz(IZ_phase2, [5])\n",
    "                                                    tomo_circ.rx(-np.pi/2, [3,5])\n",
    "                                                    tomo_circ.rz(np.pi/4, [3])\n",
    "                                                    tomo_circ.rz(np.pi/4, [5])  \n",
    "                                                    tomo_circ.append(zz_gate2, [3,5])\n",
    "                                                    tomo_circ.rz(ZI_phase2, [3])\n",
    "                                                    tomo_circ.rz(IZ_phase2, [5])\n",
    "\n",
    "                                                    tomo_circ.add_calibration(gate=zz_gate, qubits=[1,3], schedule=sched)\n",
    "                                                    tomo_circ.add_calibration(gate=zz_gate2, qubits=[3,5], schedule=sched2)\n",
    "                                                    tomo_circs.append(tomo_circ)\n",
    "\n",
    "       \n",
    "                \n",
    "    tomo_circs_transpiled = transpile(tomo_circs, backend, optimization_level = 1)            \n",
    "    return schedule(tomo_circs_transpiled, backend), tomo_circs"
   ]
  },
  {
   "cell_type": "code",
   "execution_count": 12,
   "id": "5e9ced17",
   "metadata": {},
   "outputs": [],
   "source": [
    "scheds, Trot_qc = build_Trotter_step(**Parameters, **Parameters2)"
   ]
  },
  {
   "cell_type": "code",
   "execution_count": 13,
   "id": "b8eea393",
   "metadata": {},
   "outputs": [],
   "source": [
    "Trot_gate = Trot_qc[0].to_instruction()"
   ]
  },
  {
   "cell_type": "markdown",
   "id": "76e3a8f2",
   "metadata": {},
   "source": [
    "With the Trotter gate, continue as in the supplemented notebook:"
   ]
  },
  {
   "cell_type": "code",
   "execution_count": 14,
   "id": "13dd3712",
   "metadata": {},
   "outputs": [
    {
     "data": {
      "text/html": [
       "<pre style=\"word-wrap: normal;white-space: pre;background: #fff0;line-height: 1.1;font-family: &quot;Courier New&quot;,Courier,monospace\">            ┌───────────────┐┌───────────────┐┌───────────────┐»\n",
       "q15_0: ─────┤0              ├┤0              ├┤0              ├»\n",
       "            │               ││               ││               │»\n",
       "q15_1: ─────┤1              ├┤1              ├┤1              ├»\n",
       "            │               ││               ││               │»\n",
       "q15_2: ─────┤2              ├┤2              ├┤2              ├»\n",
       "       ┌───┐│               ││               ││               │»\n",
       "q15_3: ┤ X ├┤3 circuit-2082 ├┤3 circuit-2082 ├┤3 circuit-2082 ├»\n",
       "       └───┘│               ││               ││               │»\n",
       "q15_4: ─────┤4              ├┤4              ├┤4              ├»\n",
       "       ┌───┐│               ││               ││               │»\n",
       "q15_5: ┤ X ├┤5              ├┤5              ├┤5              ├»\n",
       "       └───┘│               ││               ││               │»\n",
       "q15_6: ─────┤6              ├┤6              ├┤6              ├»\n",
       "            └───────────────┘└───────────────┘└───────────────┘»\n",
       " c0: 3/════════════════════════════════════════════════════════»\n",
       "                                                               »\n",
       "«       ┌───────────────┐ ░          \n",
       "«q15_0: ┤0              ├─░──────────\n",
       "«       │               │ ░ ┌─┐      \n",
       "«q15_1: ┤1              ├─░─┤M├──────\n",
       "«       │               │ ░ └╥┘      \n",
       "«q15_2: ┤2              ├─░──╫───────\n",
       "«       │               │ ░  ║ ┌─┐   \n",
       "«q15_3: ┤3 circuit-2082 ├─░──╫─┤M├───\n",
       "«       │               │ ░  ║ └╥┘   \n",
       "«q15_4: ┤4              ├─░──╫──╫────\n",
       "«       │               │ ░  ║  ║ ┌─┐\n",
       "«q15_5: ┤5              ├─░──╫──╫─┤M├\n",
       "«       │               │ ░  ║  ║ └╥┘\n",
       "«q15_6: ┤6              ├─░──╫──╫──╫─\n",
       "«       └───────────────┘ ░  ║  ║  ║ \n",
       "« c0: 3/═════════════════════╩══╩══╩═\n",
       "«                            0  1  2 </pre>"
      ],
      "text/plain": [
       "            ┌───────────────┐┌───────────────┐┌───────────────┐»\n",
       "q15_0: ─────┤0              ├┤0              ├┤0              ├»\n",
       "            │               ││               ││               │»\n",
       "q15_1: ─────┤1              ├┤1              ├┤1              ├»\n",
       "            │               ││               ││               │»\n",
       "q15_2: ─────┤2              ├┤2              ├┤2              ├»\n",
       "       ┌───┐│               ││               ││               │»\n",
       "q15_3: ┤ X ├┤3 circuit-2082 ├┤3 circuit-2082 ├┤3 circuit-2082 ├»\n",
       "       └───┘│               ││               ││               │»\n",
       "q15_4: ─────┤4              ├┤4              ├┤4              ├»\n",
       "       ┌───┐│               ││               ││               │»\n",
       "q15_5: ┤ X ├┤5              ├┤5              ├┤5              ├»\n",
       "       └───┘│               ││               ││               │»\n",
       "q15_6: ─────┤6              ├┤6              ├┤6              ├»\n",
       "            └───────────────┘└───────────────┘└───────────────┘»\n",
       " c0: 3/════════════════════════════════════════════════════════»\n",
       "                                                               »\n",
       "«       ┌───────────────┐ ░          \n",
       "«q15_0: ┤0              ├─░──────────\n",
       "«       │               │ ░ ┌─┐      \n",
       "«q15_1: ┤1              ├─░─┤M├──────\n",
       "«       │               │ ░ └╥┘      \n",
       "«q15_2: ┤2              ├─░──╫───────\n",
       "«       │               │ ░  ║ ┌─┐   \n",
       "«q15_3: ┤3 circuit-2082 ├─░──╫─┤M├───\n",
       "«       │               │ ░  ║ └╥┘   \n",
       "«q15_4: ┤4              ├─░──╫──╫────\n",
       "«       │               │ ░  ║  ║ ┌─┐\n",
       "«q15_5: ┤5              ├─░──╫──╫─┤M├\n",
       "«       │               │ ░  ║  ║ └╥┘\n",
       "«q15_6: ┤6              ├─░──╫──╫──╫─\n",
       "«       └───────────────┘ ░  ║  ║  ║ \n",
       "« c0: 3/═════════════════════╩══╩══╩═\n",
       "«                            0  1  2 "
      ]
     },
     "execution_count": 14,
     "metadata": {},
     "output_type": "execute_result"
    }
   ],
   "source": [
    "# The final time of the state evolution\n",
    "target_time = np.pi\n",
    "\n",
    "t = Parameter('t')\n",
    "# Number of trotter steps\n",
    "trotter_steps = 4  ### CAN BE >= 4\n",
    "\n",
    "# Initialize quantum circuit for 3 qubits\n",
    "qr = QuantumRegister(7)\n",
    "qc = QuantumCircuit(qr)\n",
    "\n",
    "# Prepare initial state (remember we are only evolving 3 of the 7 qubits on jakarta qubits (q_5, q_3, q_1) corresponding to the state |110>)\n",
    "qc.x([3,5])  # DO NOT MODIFY (|q_5,q_3,q_1> = |110>)\n",
    "\n",
    "# Simulate time evolution under H_heis3 Hamiltonian\n",
    "for _ in range(trotter_steps):\n",
    "    qc.append(Trot_gate, [qr[0],qr[1],qr[2], qr[3],qr[4], qr[5],qr[6]])\n",
    "\n",
    "# Evaluate simulation at target_time (t=pi) meaning each trotter step evolves pi/trotter_steps in time\n",
    "#qc = qc.bind_parameters({t: target_time/trotter_steps})\n",
    "\n",
    "# Generate state tomography circuits to evaluate fidelity of simulation\n",
    "st_qcs = state_tomography_circuits(qc, [qr[1], qr[3], qr[5]])\n",
    "\n",
    "# Display circuit for confirmation\n",
    "# st_qcs[-1].decompose().draw()  # view decomposition of trotter gates\n",
    "st_qcs[-1].draw()  # only view trotter gates"
   ]
  },
  {
   "cell_type": "code",
   "execution_count": 15,
   "id": "93c57f38",
   "metadata": {},
   "outputs": [
    {
     "name": "stdout",
     "output_type": "stream",
     "text": [
      "Job ID 2ae960a0-f898-4967-a259-214b9ae495ec\n",
      "Job ID 7b305e44-657f-462e-85ae-2b036efe7a16\n",
      "Job ID c8c53fe6-c3bb-4a20-badb-153e0abc9a0f\n",
      "Job ID 731ca82f-271e-4e19-a061-973472d61d36\n",
      "Job ID 55773675-25ce-4481-b125-25344a08c762\n",
      "Job ID 501ab7d1-ff6f-4151-98ce-45a05429809e\n",
      "Job ID 4938c68b-77c7-4774-b0e4-8c2167be958f\n",
      "Job ID 372942f3-a7fd-40e7-bc4c-8bd1c6324678\n"
     ]
    }
   ],
   "source": [
    "shots = 8192\n",
    "reps = 8\n",
    "backend = sim_noisy_jakarta\n",
    "# reps = 8\n",
    "# backend = jakarta\n",
    "\n",
    "jobs = []\n",
    "for _ in range(reps):\n",
    "    # execute\n",
    "    job = execute(st_qcs, backend, shots=shots)\n",
    "    print('Job ID', job.job_id())\n",
    "    jobs.append(job)"
   ]
  },
  {
   "cell_type": "code",
   "execution_count": 16,
   "id": "733c221d",
   "metadata": {},
   "outputs": [
    {
     "name": "stdout",
     "output_type": "stream",
     "text": [
      "\r",
      "Job Status: job has successfully run\n",
      "\r",
      "Job Status: job has successfully run\n",
      "\r",
      "Job Status: job has successfully run\n",
      "\r",
      "Job Status: job has successfully run\n",
      "\r",
      "Job Status: job has successfully run\n",
      "\r",
      "Job Status: job has successfully run\n",
      "\r",
      "Job Status: job has successfully run\n",
      "\r",
      "Job Status: job has successfully run\n"
     ]
    }
   ],
   "source": [
    "for job in jobs:\n",
    "    job_monitor(job)\n",
    "    try:\n",
    "        if job.error_message() is not None:\n",
    "            print(job.error_message())\n",
    "    except:\n",
    "        pass"
   ]
  },
  {
   "cell_type": "code",
   "execution_count": 17,
   "id": "4b7e98a5",
   "metadata": {},
   "outputs": [
    {
     "name": "stdout",
     "output_type": "stream",
     "text": [
      "state tomography fidelity = 0.3003 ± 0.0024\n"
     ]
    }
   ],
   "source": [
    "# Compute the state tomography based on the st_qcs quantum circuits and the results from those ciricuits\n",
    "def state_tomo(result, st_qcs):\n",
    "    # The expected final state; necessary to determine state tomography fidelity\n",
    "    target_state = (One^One^Zero).to_matrix()  # DO NOT MODIFY (|q_5,q_3,q_1> = |110>)\n",
    "    # Fit state tomography results\n",
    "    tomo_fitter = StateTomographyFitter(result, st_qcs)\n",
    "    rho_fit = tomo_fitter.fit(method='lstsq')\n",
    "    # Compute fidelity\n",
    "    fid = state_fidelity(rho_fit, target_state)\n",
    "    return fid\n",
    "\n",
    "# Compute tomography fidelities for each repetition\n",
    "fids = []\n",
    "for job in jobs:\n",
    "    fid = state_tomo(job.result(), st_qcs)\n",
    "    fids.append(fid)\n",
    "    \n",
    "print('state tomography fidelity = {:.4f} \\u00B1 {:.4f}'.format(np.mean(fids), np.std(fids)))"
   ]
  },
  {
   "cell_type": "markdown",
   "id": "bde7d96a",
   "metadata": {},
   "source": [
    "### In case the optimized schedule doesn't result in a high fidelity, you can use the parameters below (which were taken from optimization on the Santiago backend) and rerun the Trotter step. The fidelity should be around 0.3003 ± 0.0024"
   ]
  },
  {
   "cell_type": "code",
   "execution_count": null,
   "id": "f52f9b1c",
   "metadata": {},
   "outputs": [],
   "source": []
  },
  {
   "cell_type": "code",
   "execution_count": 9,
   "id": "eb0f022c",
   "metadata": {},
   "outputs": [],
   "source": [
    "Parameters = {\"omega_drives\": [freq1-0.08e9],\n",
    "             \"drive_amplitudes\": [0.05],\n",
    "              'phases': [2*np.pi/3],\n",
    "             \"pulse_lengths\": [256],\n",
    "             \"IZ_phases\" : [0],\n",
    "             'ZI_phases':[0]}\n",
    "Parameters2 ={\"omega_drives2\": [freq1-0.08e9],\n",
    "             \"drive_amplitudes2\": [0.05],\n",
    "              'phases2': [2*np.pi/3],\n",
    "             \"pulse_lengths2\": [256],\n",
    "             \"IZ_phases2\" : [0],\n",
    "             'ZI_phases2':[0]}"
   ]
  },
  {
   "cell_type": "code",
   "execution_count": null,
   "id": "64a0bc92",
   "metadata": {},
   "outputs": [],
   "source": []
  }
 ],
 "metadata": {
  "kernelspec": {
   "display_name": "Python 3",
   "language": "python",
   "name": "python3"
  },
  "language_info": {
   "codemirror_mode": {
    "name": "ipython",
    "version": 3
   },
   "file_extension": ".py",
   "mimetype": "text/x-python",
   "name": "python",
   "nbconvert_exporter": "python",
   "pygments_lexer": "ipython3",
   "version": "3.8.8"
  }
 },
 "nbformat": 4,
 "nbformat_minor": 5
}
